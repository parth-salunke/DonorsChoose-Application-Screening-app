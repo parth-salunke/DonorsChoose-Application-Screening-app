{
 "cells": [
  {
   "cell_type": "code",
   "execution_count": 1,
   "metadata": {},
   "outputs": [
    {
     "data": {
      "text/plain": [
       "'e:\\\\parth\\\\DonorsChoose-Application-Screening-app'"
      ]
     },
     "execution_count": 1,
     "metadata": {},
     "output_type": "execute_result"
    }
   ],
   "source": [
    "import os\n",
    "os.chdir(\"../\")\n",
    "%pwd"
   ]
  },
  {
   "cell_type": "code",
   "execution_count": 2,
   "metadata": {},
   "outputs": [],
   "source": [
    "# model_training:\n",
    "#   root_dir: artifacts/model_training\n",
    "#   local_train_file: artifacts/data_transform/train.npz\n",
    "\n",
    "# PENALITY:l2\n",
    "# C:0.1\n",
    "# MAX_ITER:2000\n",
    "# SOLVER:sag\n",
    "# CLASS_WEIGHT:None"
   ]
  },
  {
   "cell_type": "code",
   "execution_count": 3,
   "metadata": {},
   "outputs": [],
   "source": [
    "from dataclasses import dataclass\n",
    "from pathlib import Path\n",
    "\n",
    "@dataclass(frozen=True)\n",
    "class ModelTrainingConfig:\n",
    "    root_dir: Path\n",
    "    local_train_file: Path\n",
    "    penalty:str\n",
    "    C:float\n",
    "    max_iter:int\n",
    "    solver:str"
   ]
  },
  {
   "cell_type": "code",
   "execution_count": 7,
   "metadata": {},
   "outputs": [],
   "source": [
    "from donorschoose.constants import *\n",
    "import os\n",
    "from donorschoose.utils.common import read_yaml, create_directories\n",
    "\n",
    "class ConfigurationManager:\n",
    "    def __init__(\n",
    "        self,\n",
    "        config_filepath = CONFIG_FILE_PATH,\n",
    "        params_filepath = PARAMS_FILE_PATH\n",
    "        ):\n",
    "\n",
    "        self.config = read_yaml(config_filepath)\n",
    "        self.params = read_yaml(params_filepath)\n",
    "        create_directories([self.config.artifacts_root])\n",
    "\n",
    "    def get_model_training_config(self) -> ModelTrainingConfig:\n",
    "        config = self.config.model_training\n",
    "        params = self.params\n",
    "        create_directories([config.root_dir])\n",
    "        model_training_config = ModelTrainingConfig(\n",
    "            root_dir=config.root_dir,\n",
    "            local_train_file = config.local_train_file,\n",
    "            penalty=params.PENALTY,\n",
    "            C=self.params.C,\n",
    "            max_iter=params.MAX_ITER,\n",
    "            solver=params.SOLVER,\n",
    "\n",
    "        )\n",
    "        return model_training_config\n",
    "\n",
    "# data_Config = ConfigurationManager()\n",
    "# data_Config =data_Config.get_model_training_config()\n",
    "# data_Config"
   ]
  },
  {
   "cell_type": "code",
   "execution_count": 8,
   "metadata": {},
   "outputs": [],
   "source": [
    "import os\n",
    "from donorschoose import logger\n",
    "from pathlib import Path\n",
    "from donorschoose.utils.common import read_csv\n",
    "import numpy as np\n",
    "from scipy.sparse import coo_matrix\n",
    "from sklearn.linear_model import LogisticRegression\n",
    "import joblib\n",
    "\n",
    "class ModelTraining:\n",
    "    def __init__(self, config: ModelTrainingConfig):\n",
    "        self.config = config\n",
    "        self.X_train=None\n",
    "        self.y_train = None\n",
    "    def read_files(self):\n",
    "        '''\n",
    "        Fetches data from the specified URLs and returns DataFrames.\n",
    "        '''\n",
    "        try: \n",
    "            root_dir = self.config.root_dir\n",
    "            os.makedirs(root_dir, exist_ok=True)         \n",
    "            train_file_path = Path(self.config.local_train_file)          \n",
    "            train_data = np.load(train_file_path)\n",
    "            sparse_matrix = coo_matrix((train_data['data'], (train_data['row'], train_data['col'])), shape=train_data['shape'])\n",
    "\n",
    "            sparse_matrix = sparse_matrix.tocsr()\n",
    " \n",
    "            self.X_train = sparse_matrix[:, :-1].toarray() \n",
    "            self.y_train = sparse_matrix[:, -1].toarray().flatten()   \n",
    "\n",
    "            logger.info(f\"Shape of X_train: {self.X_train.shape}\")\n",
    "            logger.info(f\"Shape of y_train: {self.y_train.shape}\")\n",
    "\n",
    "        except Exception as e:\n",
    "            raise e\n",
    "\n",
    "    def train_log_reg(self):\n",
    "        logreg = LogisticRegression(\n",
    "                penalty=self.config.penalty,\n",
    "                C=self.config.C,\n",
    "                max_iter=self.config.max_iter,\n",
    "                solver=self.config.solver\n",
    "                )\n",
    "        logreg.fit(self.X_train, self.y_train)\n",
    "        model_filename = Path(self.config.root_dir,\"logistic_regression_model.pkl\")\n",
    "        joblib.dump(logreg, model_filename)\n",
    "        logger.info(f\"model saved succesfully {model_filename}\")\n",
    "        "
   ]
  },
  {
   "cell_type": "code",
   "execution_count": 9,
   "metadata": {},
   "outputs": [
    {
     "name": "stdout",
     "output_type": "stream",
     "text": [
      "[2024-02-18 09:52:29,974: INFO: common: YAML file 'config\\config.yaml' loaded successfully]\n",
      "[2024-02-18 09:52:29,978: INFO: common: YAML file 'params.yaml' loaded successfully]\n",
      "[2024-02-18 09:52:29,981: INFO: common: created directory at: artifacts]\n",
      "[2024-02-18 09:52:29,984: INFO: common: created directory at: artifacts/model_training]\n",
      "[2024-02-18 09:52:30,001: INFO: 1308082293: Shape of X_train: (700, 1181)]\n",
      "[2024-02-18 09:52:30,003: INFO: 1308082293: Shape of y_train: (700,)]\n",
      "[2024-02-18 09:52:44,739: INFO: 1308082293: model saved succesfully artifacts\\model_training\\logistic_regression_model.pkl]\n"
     ]
    }
   ],
   "source": [
    "data_Config = ConfigurationManager()\n",
    "Model_training = ModelTraining(data_Config.get_model_training_config())\n",
    "Model_training.read_files()\n",
    "Model_training.train_log_reg()"
   ]
  },
  {
   "cell_type": "code",
   "execution_count": null,
   "metadata": {},
   "outputs": [],
   "source": []
  },
  {
   "cell_type": "code",
   "execution_count": null,
   "metadata": {},
   "outputs": [],
   "source": []
  },
  {
   "cell_type": "code",
   "execution_count": null,
   "metadata": {},
   "outputs": [],
   "source": []
  },
  {
   "cell_type": "code",
   "execution_count": null,
   "metadata": {},
   "outputs": [],
   "source": []
  },
  {
   "cell_type": "code",
   "execution_count": null,
   "metadata": {},
   "outputs": [],
   "source": []
  },
  {
   "cell_type": "code",
   "execution_count": null,
   "metadata": {},
   "outputs": [],
   "source": []
  }
 ],
 "metadata": {
  "kernelspec": {
   "display_name": "dcenv310",
   "language": "python",
   "name": "python3"
  },
  "language_info": {
   "codemirror_mode": {
    "name": "ipython",
    "version": 3
   },
   "file_extension": ".py",
   "mimetype": "text/x-python",
   "name": "python",
   "nbconvert_exporter": "python",
   "pygments_lexer": "ipython3",
   "version": "3.10.13"
  }
 },
 "nbformat": 4,
 "nbformat_minor": 2
}
